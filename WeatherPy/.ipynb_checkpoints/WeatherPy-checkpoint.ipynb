{
 "cells": [
  {
   "cell_type": "markdown",
   "metadata": {},
   "source": [
    "# WeatherPy\n",
    "\n",
    "---\n",
    "\n",
    "## Starter Code to Generate Random Geographic Coordinates and a List of Cities"
   ]
  },
  {
   "cell_type": "code",
   "execution_count": null,
   "metadata": {
    "scrolled": true,
    "tags": []
   },
   "outputs": [],
   "source": [
    "# Dependencies and Setup\n",
    "import matplotlib.pyplot as plt\n",
    "import pandas as pd\n",
    "import numpy as np\n",
    "import requests\n",
    "import time\n",
    "from scipy.stats import linregress\n",
    "\n",
    "# Impor the OpenWeatherMap API key\n",
    "from api_keys import weather_api_key\n",
    "\n",
    "# Import citipy to determine the cities based on latitude and longitude\n",
    "from citipy import citipy"
   ]
  },
  {
   "cell_type": "markdown",
   "metadata": {},
   "source": [
    "### Generate the Cities List by Using the `citipy` Library"
   ]
  },
  {
   "cell_type": "code",
   "execution_count": null,
   "metadata": {
    "tags": []
   },
   "outputs": [],
   "source": [
    "# Empty list for holding the latitude and longitude combinations\n",
    "lat_lngs = []\n",
    "\n",
    "# Empty list for holding the cities names\n",
    "cities = []\n",
    "\n",
    "# Range of latitudes and longitudes\n",
    "lat_range = (-90, 90)\n",
    "lng_range = (-180, 180)\n",
    "\n",
    "# Create a set of random lat and lng combinations\n",
    "lats = np.random.uniform(lat_range[0], lat_range[1], size=1500)\n",
    "lngs = np.random.uniform(lng_range[0], lng_range[1], size=1500)\n",
    "lat_lngs = zip(lats, lngs)\n",
    "\n",
    "# Identify nearest city for each lat, lng combination\n",
    "for lat_lng in lat_lngs:\n",
    "    city = citipy.nearest_city(lat_lng[0], lat_lng[1]).city_name\n",
    "    \n",
    "    # If the city is unique, then add it to a our cities list\n",
    "    if city not in cities:\n",
    "        cities.append(city)\n",
    "\n",
    "# Print the city count to confirm sufficient count\n",
    "print(f\"Number of cities in the list: {len(cities)}\")"
   ]
  },
  {
   "cell_type": "markdown",
   "metadata": {},
   "source": [
    "---"
   ]
  },
  {
   "cell_type": "markdown",
   "metadata": {},
   "source": [
    "## Requirement 1: Create Plots to Showcase the Relationship Between Weather Variables and Latitude\n",
    "\n",
    "### Use the OpenWeatherMap API to retrieve weather data from the cities list generated in the started code"
   ]
  },
  {
   "cell_type": "code",
   "execution_count": null,
   "metadata": {
    "tags": []
   },
   "outputs": [
    {
     "name": "stdout",
     "output_type": "stream",
     "text": [
      "Beginning Data Retrieval     \n",
      "-----------------------------\n",
      "Processing Record 1 of Set 1 | otofuke\n",
      "Processing Record 2 of Set 1 | champerico\n",
      "Processing Record 3 of Set 1 | conceicao da barra\n",
      "Processing Record 4 of Set 1 | acapulco de juarez\n",
      "Processing Record 5 of Set 1 | cabedelo\n",
      "Processing Record 6 of Set 1 | sanming\n",
      "Processing Record 7 of Set 1 | ust-nera\n",
      "Processing Record 8 of Set 1 | williston\n",
      "Processing Record 9 of Set 1 | torquay\n",
      "Processing Record 10 of Set 1 | margaret river\n",
      "Processing Record 11 of Set 1 | fale old settlement\n",
      "Processing Record 12 of Set 1 | adamstown\n",
      "Processing Record 13 of Set 1 | colonia\n",
      "Processing Record 14 of Set 1 | yellowknife\n",
      "Processing Record 15 of Set 1 | grytviken\n",
      "Processing Record 16 of Set 1 | san patricio\n",
      "Processing Record 17 of Set 1 | hihifo\n",
      "City not found. Skipping...\n",
      "Processing Record 18 of Set 1 | mugia\n",
      "Processing Record 19 of Set 1 | paramonga\n",
      "Processing Record 20 of Set 1 | blackmans bay\n",
      "Processing Record 21 of Set 1 | port-aux-francais\n",
      "Processing Record 22 of Set 1 | alofi\n",
      "Processing Record 23 of Set 1 | atafu village\n",
      "Processing Record 24 of Set 1 | tazacorte\n",
      "Processing Record 25 of Set 1 | ouesso\n",
      "Processing Record 26 of Set 1 | salym\n",
      "Processing Record 27 of Set 1 | avarua\n",
      "Processing Record 28 of Set 1 | ilulissat\n",
      "Processing Record 29 of Set 1 | kalmunai\n",
      "Processing Record 30 of Set 1 | namtsy\n",
      "Processing Record 31 of Set 1 | taiohae\n",
      "City not found. Skipping...\n",
      "Processing Record 32 of Set 1 | tura\n",
      "Processing Record 33 of Set 1 | waitangi\n",
      "Processing Record 34 of Set 1 | kataragama\n",
      "City not found. Skipping...\n",
      "Processing Record 35 of Set 1 | igarka\n",
      "Processing Record 36 of Set 1 | vorgashor\n",
      "Processing Record 37 of Set 1 | tolanaro\n",
      "Processing Record 38 of Set 1 | buala\n",
      "Processing Record 39 of Set 1 | vrangel'\n",
      "Processing Record 40 of Set 1 | afaahiti\n",
      "Processing Record 41 of Set 1 | arawa\n",
      "Processing Record 42 of Set 1 | binbrook\n",
      "Processing Record 43 of Set 1 | machico\n",
      "Processing Record 44 of Set 1 | papatowai\n",
      "Processing Record 45 of Set 1 | houghton\n",
      "Processing Record 46 of Set 1 | kasongo-lunda\n",
      "Processing Record 47 of Set 1 | ushuaia\n",
      "Processing Record 48 of Set 1 | bilibino\n",
      "Processing Record 49 of Set 1 | egilsstadir\n",
      "Processing Record 50 of Set 1 | edinburgh of the seven seas\n",
      "Processing Record 0 of Set 2 | qoryooley\n",
      "Processing Record 1 of Set 2 | badger\n",
      "Processing Record 2 of Set 2 | bethel\n",
      "Processing Record 3 of Set 2 | invercargill\n",
      "Processing Record 4 of Set 2 | chizhou\n",
      "Processing Record 5 of Set 2 | bertioga\n",
      "Processing Record 6 of Set 2 | kotri\n",
      "Processing Record 7 of Set 2 | vila velha\n",
      "Processing Record 8 of Set 2 | adi keyh\n",
      "Processing Record 9 of Set 2 | iqaluit\n"
     ]
    }
   ],
   "source": [
    "# Set the API base URL\n",
    "url = f'https://api.openweathermap.org/data/2.5/weather?q={city}&appid={weather_api_key}'\n",
    "\n",
    "# Define an empty list to fetch the weather data for each city\n",
    "city_data = []\n",
    "\n",
    "# Print to logger\n",
    "print(\"Beginning Data Retrieval     \")\n",
    "print(\"-----------------------------\")\n",
    "\n",
    "# Create counters\n",
    "record_count = 1\n",
    "set_count = 1\n",
    "\n",
    "# Loop through all the cities in our list to fetch weather data\n",
    "for i, city in enumerate(cities):\n",
    "        \n",
    "    # Group cities in sets of 50 for logging purposes\n",
    "    if (i % 50 == 0 and i >= 50):\n",
    "        set_count += 1\n",
    "        record_count = 0\n",
    "\n",
    "    # Create endpoint URL with each city\n",
    "    city_url = f'https://api.openweathermap.org/data/2.5/weather?q={city}&appid={weather_api_key}&units=metric'\n",
    "    \n",
    "    # Log the url, record, and set numbers\n",
    "    print(\"Processing Record %s of Set %s | %s\" % (record_count, set_count, city))\n",
    "\n",
    "    # Add 1 to the record count\n",
    "    record_count += 1\n",
    "\n",
    "    # Run an API request for each of the cities\n",
    "    try:\n",
    "        # Parse the JSON and retrieve data\n",
    "        city_weather = requests.get(city_url).json()\n",
    "\n",
    "        # Parse out latitude, longitude, max temp, humidity, cloudiness, wind speed, country, and date\n",
    "        city_lat = city_weather['coord']['lat']\n",
    "        city_lng = city_weather['coord']['lon']\n",
    "        city_max_temp = city_weather['main']['temp_max']\n",
    "        city_humidity = city_weather['main']['humidity']\n",
    "        city_clouds = city_weather['clouds']['all']\n",
    "        city_wind = city_weather['wind']['speed']\n",
    "        city_country = city_weather['sys']['country']\n",
    "        city_date = city_weather['dt']\n",
    "\n",
    "        # Append the City information into city_data list\n",
    "        city_data.append({\"City\": city, \n",
    "                          \"Lat\": city_lat, \n",
    "                          \"Lng\": city_lng, \n",
    "                          \"Max Temp\": city_max_temp,\n",
    "                          \"Humidity\": city_humidity,\n",
    "                          \"Cloudiness\": city_clouds,\n",
    "                          \"Wind Speed\": city_wind,\n",
    "                          \"Country\": city_country,\n",
    "                          \"Date\": city_date})\n",
    "\n",
    "    # If an error is experienced, skip the city\n",
    "    except:\n",
    "        print(\"City not found. Skipping...\")\n",
    "        pass\n",
    "              \n",
    "# Indicate that Data Loading is complete \n",
    "print(\"-----------------------------\")\n",
    "print(\"Data Retrieval Complete      \")\n",
    "print(\"-----------------------------\")"
   ]
  },
  {
   "cell_type": "code",
   "execution_count": null,
   "metadata": {
    "tags": []
   },
   "outputs": [],
   "source": [
    "# Convert the cities weather data into a Pandas DataFrame\n",
    "city_data_df = pd.DataFrame(city_data)\n",
    "\n",
    "# Show Record Count\n",
    "city_data_df.count()"
   ]
  },
  {
   "cell_type": "code",
   "execution_count": null,
   "metadata": {
    "tags": []
   },
   "outputs": [],
   "source": [
    "# Display sample data\n",
    "city_data_df.head()"
   ]
  },
  {
   "cell_type": "code",
   "execution_count": null,
   "metadata": {
    "tags": []
   },
   "outputs": [],
   "source": [
    "# Convert datetime to readable date format\n",
    "city_data_df['Date']=(pd.to_datetime(city_data_df['Date'],unit='s')).dt.date\n",
    "city_data_df.head()"
   ]
  },
  {
   "cell_type": "code",
   "execution_count": null,
   "metadata": {
    "tags": []
   },
   "outputs": [],
   "source": [
    "# Export the City_Data into a csv\n",
    "city_data_df.to_csv(\"output_data/cities.csv\", index_label=\"City_ID\")"
   ]
  },
  {
   "cell_type": "code",
   "execution_count": null,
   "metadata": {
    "tags": []
   },
   "outputs": [],
   "source": [
    "# Read saved data\n",
    "city_data_df = pd.read_csv(\"output_data/cities.csv\", index_col=\"City_ID\")\n",
    "\n",
    "# Display sample data\n",
    "city_data_df.head()"
   ]
  },
  {
   "cell_type": "markdown",
   "metadata": {},
   "source": [
    "### Create the Scatter Plots Requested\n",
    "\n",
    "#### Latitude vs. Temperature"
   ]
  },
  {
   "cell_type": "code",
   "execution_count": null,
   "metadata": {
    "tags": []
   },
   "outputs": [],
   "source": [
    "# Build scatter plot for latitude vs. temperature\n",
    "plt.scatter(city_data_df['Lat'],city_data_df['Max Temp'], marker='o', facecolors='g', edgecolors='k')\n",
    "\n",
    "# Incorporate the other graph properties\n",
    "plt.grid()\n",
    "plt.xlabel(\"Latitude\")\n",
    "plt.ylabel(\"Max Temperature °C\")\n",
    "date=city_data_df['Date'].min()\n",
    "plt.title(f\"City Latitude vs. Temperature ({date})\")\n",
    "plt.tight_layout()\n",
    "\n",
    "# Save the figure\n",
    "plt.savefig(\"output_data/Fig1.png\")\n",
    "\n",
    "# Show plot\n",
    "plt.show()"
   ]
  },
  {
   "cell_type": "markdown",
   "metadata": {},
   "source": [
    "#### Latitude vs. Humidity"
   ]
  },
  {
   "cell_type": "code",
   "execution_count": null,
   "metadata": {
    "tags": []
   },
   "outputs": [],
   "source": [
    "# Build the scatter plots for latitude vs. humidity\n",
    "city_data_df.plot(kind='scatter', x='Lat', y='Humidity', marker='o', grid=True,\\\n",
    "                  facecolors='g', edgecolors='k', title=f'City Latitude vs. Humidity ({date})')\n",
    "\n",
    "# Incorporate the other graph properties\n",
    "plt.xlabel(\"Latitude\")\n",
    "plt.ylabel(\"Humidity (%)\")\n",
    "plt.tight_layout()\n",
    "\n",
    "# Save the figure\n",
    "plt.savefig(\"output_data/Fig2.png\")\n",
    "\n",
    "# Show plot\n",
    "plt.show()"
   ]
  },
  {
   "cell_type": "markdown",
   "metadata": {},
   "source": [
    "#### Latitude vs. Cloudiness"
   ]
  },
  {
   "cell_type": "code",
   "execution_count": null,
   "metadata": {
    "tags": []
   },
   "outputs": [],
   "source": [
    "# Build the scatter plots for latitude vs. cloudiness\n",
    "city_data_df.plot(kind='scatter', x='Lat', y='Cloudiness', marker='o', grid=True,\\\n",
    "                  facecolors='g', edgecolors='k', title=f'City Latitude vs. Cloudiness ({date})')\n",
    "\n",
    "# Incorporate the other graph properties\n",
    "plt.xlabel(\"Latitude\")\n",
    "plt.ylabel(\"Cloudiness (%)\")\n",
    "plt.tight_layout()\n",
    "\n",
    "# Save the figure\n",
    "plt.savefig(\"output_data/Fig3.png\")\n",
    "\n",
    "# Show plot\n",
    "plt.show()"
   ]
  },
  {
   "cell_type": "markdown",
   "metadata": {},
   "source": [
    "#### Latitude vs. Wind Speed Plot"
   ]
  },
  {
   "cell_type": "code",
   "execution_count": null,
   "metadata": {
    "tags": []
   },
   "outputs": [],
   "source": [
    "# Build the scatter plots for latitude vs. wind speed\n",
    "city_data_df.plot(kind='scatter', x='Lat', y='Wind Speed', marker='o', grid=True,\\\n",
    "                  facecolors='g', edgecolors='k', title=f'City Latitude vs. Wind Speed ({date})')\n",
    "\n",
    "# Incorporate the other graph properties\n",
    "plt.xlabel(\"Latitude\")\n",
    "plt.ylabel(\"Wind Speed (m/s)\")\n",
    "plt.tight_layout()\n",
    "\n",
    "# Save the figure\n",
    "plt.savefig(\"output_data/Fig4.png\")\n",
    "\n",
    "# Show plot\n",
    "plt.show()"
   ]
  },
  {
   "cell_type": "markdown",
   "metadata": {},
   "source": [
    "---\n",
    "\n",
    "## Requirement 2: Compute Linear Regression for Each Relationship\n"
   ]
  },
  {
   "cell_type": "code",
   "execution_count": null,
   "metadata": {
    "tags": []
   },
   "outputs": [],
   "source": [
    "# Create a DataFrame with the Northern Hemisphere data (Latitude >= 0)\n",
    "north_hemi_df = city_data_df.loc[city_data_df['Lat']>= 0,:]\n",
    "\n",
    "# Display sample data\n",
    "north_hemi_df.head()"
   ]
  },
  {
   "cell_type": "code",
   "execution_count": null,
   "metadata": {
    "tags": []
   },
   "outputs": [],
   "source": [
    "# Create a DataFrame with the Southern Hemisphere data (Latitude < 0)\n",
    "south_hemi_df = city_data_df.loc[city_data_df['Lat']<= 0,:]\n",
    "\n",
    "# Display sample data\n",
    "south_hemi_df.head()"
   ]
  },
  {
   "cell_type": "markdown",
   "metadata": {},
   "source": [
    "###  Temperature vs. Latitude Linear Regression Plot"
   ]
  },
  {
   "cell_type": "code",
   "execution_count": null,
   "metadata": {
    "tags": []
   },
   "outputs": [],
   "source": [
    "# Linear regression on Northern Hemisphere\n",
    "plt.scatter(north_hemi_df['Lat'],north_hemi_df['Max Temp'], marker='o', facecolors='g', edgecolors='k')\n",
    "\n",
    "# Incorporate the other graph properties\n",
    "plt.grid()\n",
    "plt.xlabel(\"Latitude\")\n",
    "plt.ylabel(\"Max Temp\")\n",
    "plt.title(\"Temperature vs. Latitude in Northern Hemisphere\")\n",
    "\n",
    "# Define a function to create Linear Regression plots\n",
    "def lr_funcV2(x,y,name,vbl,hemi):\n",
    "    (slope,intercept,rvalue,pvalue,stderror)=linregress(x,y)\n",
    "    reg_values= x*slope + intercept\n",
    "    plt.plot(x,reg_values,color='r')\n",
    "    plt.title(f'Latitude vs. {vbl} - {hemi}')\n",
    "    plt.xlabel('Latitude')\n",
    "    plt.ylabel(vbl)\n",
    "    line_eq = f'y = {(round(slope,2))}x + {(round(intercept,2))}'\n",
    "    print(f'Linear equation: {line_eq}')\n",
    "    plt.savefig(f\"output_data/LinearRegresion_{name}.png\")\n",
    "    print(f'The r-value is: {rvalue}')\n",
    "\n",
    "x = north_hemi_df['Lat']\n",
    "y = north_hemi_df['Max Temp']\n",
    "name = 'NH_LatVsMaxTemp'\n",
    "vbl = 'Maximum Temperature C°'\n",
    "hemi = 'Northern Hemisphere'\n",
    "lr_funcV2(x,y,name,vbl,hemi)\n",
    "plt.show()"
   ]
  },
  {
   "cell_type": "code",
   "execution_count": null,
   "metadata": {
    "tags": []
   },
   "outputs": [],
   "source": [
    "# Linear regression on Southern Hemisphere\n",
    "plt.scatter(south_hemi_df['Lat'],south_hemi_df['Max Temp'], marker='o', facecolors='b', edgecolors='k')\n",
    "\n",
    "# Incorporate the other graph properties\n",
    "plt.grid()\n",
    "\n",
    "x = south_hemi_df['Lat']\n",
    "y = south_hemi_df['Max Temp']\n",
    "name = 'SH_LatVsMaxTemp'\n",
    "vbl = 'Maximum Temperature C°'\n",
    "hemi = 'Southern Hemisphere'\n",
    "lr_funcV2(x,y,name,vbl,hemi)\n",
    "plt.show()"
   ]
  },
  {
   "cell_type": "markdown",
   "metadata": {},
   "source": [
    "**Discussion about the linear relationship:** The ascent towards the equator is accompanied by a rise in maximum temperatures. Within the Northern Hemisphere, a converse correlation is observed, whereas in the Southern Hemisphere, a direct correlation is evident. A strong connection exists between latitude and the highest recorded temperatures."
   ]
  },
  {
   "cell_type": "markdown",
   "metadata": {},
   "source": [
    "### Humidity vs. Latitude Linear Regression Plot"
   ]
  },
  {
   "cell_type": "code",
   "execution_count": null,
   "metadata": {
    "tags": []
   },
   "outputs": [],
   "source": [
    "# Northern Hemisphere\n",
    "plt.scatter(north_hemi_df['Lat'],north_hemi_df['Humidity'], marker='o', facecolors='g', edgecolors='k')\n",
    "\n",
    "# Incorporate the other graph properties\n",
    "plt.grid()\n",
    "\n",
    "# Linear regression on Northern Hemisphere\n",
    "x = north_hemi_df['Lat']\n",
    "y = north_hemi_df['Humidity']\n",
    "name = 'NH_LatVsHumidity'\n",
    "vbl = 'Humidity (%)'\n",
    "hemi = 'Northern Hemisphere'\n",
    "lr_funcV2(x,y,name,vbl,hemi)\n",
    "plt.show()"
   ]
  },
  {
   "cell_type": "code",
   "execution_count": null,
   "metadata": {
    "tags": []
   },
   "outputs": [],
   "source": [
    "# Southern Hemisphere\n",
    "plt.scatter(south_hemi_df['Lat'],south_hemi_df['Humidity'], marker='o', facecolors='g', edgecolors='k')\n",
    "\n",
    "# Incorporate the other graph properties\n",
    "plt.grid()\n",
    "\n",
    "# Linear regression on Southern Hemisphere\n",
    "x = south_hemi_df['Lat']\n",
    "y = south_hemi_df['Humidity']\n",
    "name = 'SH_LatVsHumidity'\n",
    "vbl = 'Humidity (%)'\n",
    "hemi = 'Southern Hemisphere'\n",
    "lr_funcV2(x,y,name,vbl,hemi)\n",
    "plt.show()"
   ]
  },
  {
   "cell_type": "markdown",
   "metadata": {},
   "source": [
    "**Discussion about the linear relationship:** \n",
    "In each hemisphere, the linear equation indicates a subtly positive correlation, suggesting that proximity to the equator does not significantly influence humidity. The available data suggests a minimal or nonexistent connection between latitude and humidity. However, the scatter points illustrate that the data is too widely dispersed to establish a dependable relationship between latitude and humidity."
   ]
  },
  {
   "cell_type": "markdown",
   "metadata": {},
   "source": [
    "### Cloudiness vs. Latitude Linear Regression Plot"
   ]
  },
  {
   "cell_type": "code",
   "execution_count": null,
   "metadata": {
    "tags": []
   },
   "outputs": [],
   "source": [
    "# Northern Hemisphere\n",
    "plt.scatter(north_hemi_df['Lat'],north_hemi_df['Cloudiness'], marker='o', facecolors='g', edgecolors='k')\n",
    "\n",
    "# Incorporate the other graph properties\n",
    "plt.grid()\n",
    "\n",
    "# Linear regression on Northern Hemisphere\n",
    "x = north_hemi_df['Lat']\n",
    "y = north_hemi_df['Cloudiness']\n",
    "name = 'NH_LatVsCloudiness'\n",
    "vbl = 'Cloudiness (%)'\n",
    "hemi = 'Northern Hemisphere'\n",
    "lr_funcV2(x,y,name,vbl,hemi)\n",
    "plt.show()"
   ]
  },
  {
   "cell_type": "code",
   "execution_count": null,
   "metadata": {
    "tags": []
   },
   "outputs": [],
   "source": [
    "# Southern Hemisphere\n",
    "plt.scatter(south_hemi_df['Lat'],south_hemi_df['Cloudiness'], marker='o', facecolors='g', edgecolors='k')\n",
    "\n",
    "# Incorporate the other graph properties\n",
    "plt.grid()\n",
    "\n",
    "# Linear regression on Southern Hemisphere\n",
    "x = south_hemi_df['Lat']\n",
    "y = south_hemi_df['Cloudiness']\n",
    "name = 'SH_LatVsCloudiness'\n",
    "vbl = 'Cloudiness (%)'\n",
    "hemi = 'Southern Hemisphere'\n",
    "lr_funcV2(x,y,name,vbl,hemi)\n",
    "plt.show()"
   ]
  },
  {
   "cell_type": "markdown",
   "metadata": {},
   "source": [
    "**Discussion about the linear relationship:** \n",
    "In each hemisphere, the linear equation demonstrates a positive correlation, indicating that proximity to the equator has no impact on cloudiness. The data available suggests a negligible or absent correlation between latitude and cloudiness. However, the scatter points reveal that the data is too widely dispersed to establish a reliable relationship between latitude and cloudiness."
   ]
  },
  {
   "cell_type": "markdown",
   "metadata": {},
   "source": [
    "### Wind Speed vs. Latitude Linear Regression Plot"
   ]
  },
  {
   "cell_type": "code",
   "execution_count": null,
   "metadata": {
    "tags": []
   },
   "outputs": [],
   "source": [
    "# Northern Hemisphere\n",
    "plt.scatter(north_hemi_df['Lat'],north_hemi_df['Wind Speed'], marker='o', facecolors='g', edgecolors='k')\n",
    "\n",
    "# Incorporate the other graph properties\n",
    "plt.grid()\n",
    "\n",
    "# Linear regression on Northern Hemisphere\n",
    "x = north_hemi_df['Lat']\n",
    "y = north_hemi_df['Wind Speed']\n",
    "name = 'NH_LatVsWindSpeed'\n",
    "vbl = 'Wind Speed (m/s)'\n",
    "hemi = 'Northern Hemisphere'\n",
    "lr_funcV2(x,y,name,vbl,hemi)\n",
    "plt.show()"
   ]
  },
  {
   "cell_type": "code",
   "execution_count": null,
   "metadata": {
    "tags": []
   },
   "outputs": [],
   "source": [
    "# Southern Hemisphere\n",
    "plt.scatter(south_hemi_df['Lat'],south_hemi_df['Wind Speed'], marker='o', facecolors='g', edgecolors='k')\n",
    "\n",
    "# Incorporate the other graph properties\n",
    "plt.grid()\n",
    "\n",
    "# Linear regression on Southern Hemisphere\n",
    "x = south_hemi_df['Lat']\n",
    "y = south_hemi_df['Wind Speed']\n",
    "name = 'SH_LatVsWindSpeed'\n",
    "vbl = 'Wind Speed (m/s)'\n",
    "hemi = 'Southern Hemisphere'\n",
    "lr_funcV2(x,y,name,vbl,hemi)\n",
    "plt.show()"
   ]
  },
  {
   "cell_type": "markdown",
   "metadata": {},
   "source": [
    "**Discussion about the linear relationship:** \n",
    "Low r-values are observed for both hemispheres, indicating a minimal or nonexistent connection between latitude and wind speed in the available data. The scatter points illustrate that the data is too widely dispersed to establish any dependable correlation between latitude and wind speed."
   ]
  }
 ],
 "metadata": {
  "anaconda-cloud": {},
  "kernel_info": {
   "name": "python3"
  },
  "kernelspec": {
   "display_name": "Python 3 (ipykernel)",
   "language": "python",
   "name": "python3"
  },
  "language_info": {
   "codemirror_mode": {
    "name": "ipython",
    "version": 3
   },
   "file_extension": ".py",
   "mimetype": "text/x-python",
   "name": "python",
   "nbconvert_exporter": "python",
   "pygments_lexer": "ipython3",
   "version": "3.11.5"
  },
  "latex_envs": {
   "LaTeX_envs_menu_present": true,
   "autoclose": false,
   "autocomplete": true,
   "bibliofile": "biblio.bib",
   "cite_by": "apalike",
   "current_citInitial": 1,
   "eqLabelWithNumbers": true,
   "eqNumInitial": 1,
   "hotkeys": {
    "equation": "Ctrl-E",
    "itemize": "Ctrl-I"
   },
   "labels_anchors": false,
   "latex_user_defs": false,
   "report_style_numbering": false,
   "user_envs_cfg": false
  },
  "nteract": {
   "version": "0.12.3"
  }
 },
 "nbformat": 4,
 "nbformat_minor": 4
}
